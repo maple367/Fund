{
 "cells": [
  {
   "cell_type": "code",
   "execution_count": 3,
   "id": "c6932533",
   "metadata": {},
   "outputs": [
    {
     "name": "stdout",
     "output_type": "stream",
     "text": [
      "Looking in indexes: https://mirrors.sustech.edu.cn/pypi/web/simple\n",
      "Requirement already satisfied: akshare in c:\\users\\localuser\\.conda\\envs\\ml\\lib\\site-packages (1.17.41)\n",
      "Collecting baostock\n",
      "  Downloading https://mirrors.sustech.edu.cn/pypi/web/packages/b2/37/bbabac2d33723d71bd8dbd5e819d9cbe5dc1e031b7dd12ed7de8fa040816/baostock-0.8.9-py3-none-any.whl (45 kB)\n",
      "Requirement already satisfied: aiohttp>=3.11.13 in c:\\users\\localuser\\.conda\\envs\\ml\\lib\\site-packages (from akshare) (3.12.13)\n",
      "Requirement already satisfied: beautifulsoup4>=4.9.1 in c:\\users\\localuser\\.conda\\envs\\ml\\lib\\site-packages (from akshare) (4.13.4)\n",
      "Requirement already satisfied: lxml>=4.2.1 in c:\\users\\localuser\\.conda\\envs\\ml\\lib\\site-packages (from akshare) (6.0.0)\n",
      "Requirement already satisfied: pandas>=0.25 in c:\\users\\localuser\\.conda\\envs\\ml\\lib\\site-packages (from akshare) (2.3.1)\n",
      "Requirement already satisfied: requests>=2.22.0 in c:\\users\\localuser\\.conda\\envs\\ml\\lib\\site-packages (from akshare) (2.32.4)\n",
      "Requirement already satisfied: html5lib>=1.0.1 in c:\\users\\localuser\\.conda\\envs\\ml\\lib\\site-packages (from akshare) (1.1)\n",
      "Requirement already satisfied: xlrd>=1.2.0 in c:\\users\\localuser\\.conda\\envs\\ml\\lib\\site-packages (from akshare) (2.0.2)\n",
      "Requirement already satisfied: urllib3>=1.25.8 in c:\\users\\localuser\\.conda\\envs\\ml\\lib\\site-packages (from akshare) (2.5.0)\n",
      "Requirement already satisfied: tqdm>=4.43.0 in c:\\users\\localuser\\.conda\\envs\\ml\\lib\\site-packages (from akshare) (4.67.1)\n",
      "Requirement already satisfied: openpyxl>=3.0.3 in c:\\users\\localuser\\.conda\\envs\\ml\\lib\\site-packages (from akshare) (3.1.5)\n",
      "Requirement already satisfied: jsonpath>=0.82 in c:\\users\\localuser\\.conda\\envs\\ml\\lib\\site-packages (from akshare) (0.82.2)\n",
      "Requirement already satisfied: tabulate>=0.8.6 in c:\\users\\localuser\\.conda\\envs\\ml\\lib\\site-packages (from akshare) (0.9.0)\n",
      "Requirement already satisfied: decorator>=4.4.2 in c:\\users\\localuser\\.conda\\envs\\ml\\lib\\site-packages (from akshare) (5.2.1)\n",
      "Requirement already satisfied: nest_asyncio>=1.6.0 in c:\\users\\localuser\\.conda\\envs\\ml\\lib\\site-packages (from akshare) (1.6.0)\n",
      "Requirement already satisfied: mini-racer>=0.12.4 in c:\\users\\localuser\\.conda\\envs\\ml\\lib\\site-packages (from akshare) (0.12.4)\n",
      "Requirement already satisfied: aiohappyeyeballs>=2.5.0 in c:\\users\\localuser\\.conda\\envs\\ml\\lib\\site-packages (from aiohttp>=3.11.13->akshare) (2.6.1)\n",
      "Requirement already satisfied: aiosignal>=1.1.2 in c:\\users\\localuser\\.conda\\envs\\ml\\lib\\site-packages (from aiohttp>=3.11.13->akshare) (1.4.0)\n",
      "Requirement already satisfied: attrs>=17.3.0 in c:\\users\\localuser\\.conda\\envs\\ml\\lib\\site-packages (from aiohttp>=3.11.13->akshare) (25.3.0)\n",
      "Requirement already satisfied: frozenlist>=1.1.1 in c:\\users\\localuser\\.conda\\envs\\ml\\lib\\site-packages (from aiohttp>=3.11.13->akshare) (1.7.0)\n",
      "Requirement already satisfied: multidict<7.0,>=4.5 in c:\\users\\localuser\\.conda\\envs\\ml\\lib\\site-packages (from aiohttp>=3.11.13->akshare) (6.6.3)\n",
      "Requirement already satisfied: propcache>=0.2.0 in c:\\users\\localuser\\.conda\\envs\\ml\\lib\\site-packages (from aiohttp>=3.11.13->akshare) (0.3.2)\n",
      "Requirement already satisfied: yarl<2.0,>=1.17.0 in c:\\users\\localuser\\.conda\\envs\\ml\\lib\\site-packages (from aiohttp>=3.11.13->akshare) (1.20.1)\n",
      "Requirement already satisfied: idna>=2.0 in c:\\users\\localuser\\.conda\\envs\\ml\\lib\\site-packages (from yarl<2.0,>=1.17.0->aiohttp>=3.11.13->akshare) (3.7)\n",
      "Requirement already satisfied: soupsieve>1.2 in c:\\users\\localuser\\.conda\\envs\\ml\\lib\\site-packages (from beautifulsoup4>=4.9.1->akshare) (2.7)\n",
      "Requirement already satisfied: typing-extensions>=4.0.0 in c:\\users\\localuser\\.conda\\envs\\ml\\lib\\site-packages (from beautifulsoup4>=4.9.1->akshare) (4.14.0)\n",
      "Requirement already satisfied: six>=1.9 in c:\\users\\localuser\\.conda\\envs\\ml\\lib\\site-packages (from html5lib>=1.0.1->akshare) (1.17.0)\n",
      "Requirement already satisfied: webencodings in c:\\users\\localuser\\.conda\\envs\\ml\\lib\\site-packages (from html5lib>=1.0.1->akshare) (0.5.1)\n",
      "Requirement already satisfied: et-xmlfile in c:\\users\\localuser\\.conda\\envs\\ml\\lib\\site-packages (from openpyxl>=3.0.3->akshare) (2.0.0)\n",
      "Requirement already satisfied: numpy>=1.26.0 in c:\\users\\localuser\\.conda\\envs\\ml\\lib\\site-packages (from pandas>=0.25->akshare) (2.2.5)\n",
      "Requirement already satisfied: python-dateutil>=2.8.2 in c:\\users\\localuser\\.conda\\envs\\ml\\lib\\site-packages (from pandas>=0.25->akshare) (2.9.0.post0)\n",
      "Requirement already satisfied: pytz>=2020.1 in c:\\users\\localuser\\.conda\\envs\\ml\\lib\\site-packages (from pandas>=0.25->akshare) (2025.2)\n",
      "Requirement already satisfied: tzdata>=2022.7 in c:\\users\\localuser\\.conda\\envs\\ml\\lib\\site-packages (from pandas>=0.25->akshare) (2025.2)\n",
      "Requirement already satisfied: charset_normalizer<4,>=2 in c:\\users\\localuser\\.conda\\envs\\ml\\lib\\site-packages (from requests>=2.22.0->akshare) (3.3.2)\n",
      "Requirement already satisfied: certifi>=2017.4.17 in c:\\users\\localuser\\.conda\\envs\\ml\\lib\\site-packages (from requests>=2.22.0->akshare) (2025.8.3)\n",
      "Requirement already satisfied: colorama in c:\\users\\localuser\\.conda\\envs\\ml\\lib\\site-packages (from tqdm>=4.43.0->akshare) (0.4.6)\n",
      "Installing collected packages: baostock\n",
      "Successfully installed baostock-0.8.9\n",
      "Note: you may need to restart the kernel to use updated packages.\n"
     ]
    },
    {
     "name": "stderr",
     "output_type": "stream",
     "text": [
      "\n",
      "[notice] A new release of pip is available: 25.1.1 -> 25.2\n",
      "[notice] To update, run: python.exe -m pip install --upgrade pip\n"
     ]
    }
   ],
   "source": [
    "%pip install akshare baostock --upgrade"
   ]
  },
  {
   "cell_type": "code",
   "execution_count": 4,
   "id": "0a82e102",
   "metadata": {},
   "outputs": [
    {
     "data": {
      "application/vnd.microsoft.datawrangler.viewer.v0+json": {
       "columns": [
        {
         "name": "index",
         "rawType": "int64",
         "type": "integer"
        },
        {
         "name": "day",
         "rawType": "object",
         "type": "string"
        },
        {
         "name": "open",
         "rawType": "float64",
         "type": "float"
        },
        {
         "name": "high",
         "rawType": "float64",
         "type": "float"
        },
        {
         "name": "low",
         "rawType": "float64",
         "type": "float"
        },
        {
         "name": "close",
         "rawType": "float64",
         "type": "float"
        },
        {
         "name": "volume",
         "rawType": "object",
         "type": "string"
        }
       ],
       "ref": "a55d64cb-bcbc-44c9-9db7-0d871a089e14",
       "rows": [
        [
         "0",
         "2025-08-14 13:28:00",
         "40.36",
         "40.5",
         "40.3",
         "40.32",
         "262700"
        ],
        [
         "1",
         "2025-08-14 13:29:00",
         "40.33",
         "40.4",
         "40.32",
         "40.35",
         "116700"
        ],
        [
         "2",
         "2025-08-14 13:30:00",
         "40.33",
         "40.38",
         "40.32",
         "40.38",
         "76100"
        ],
        [
         "3",
         "2025-08-14 13:31:00",
         "40.38",
         "40.4",
         "40.36",
         "40.38",
         "169700"
        ],
        [
         "4",
         "2025-08-14 13:32:00",
         "40.38",
         "40.46",
         "40.35",
         "40.4",
         "258800"
        ],
        [
         "5",
         "2025-08-14 13:33:00",
         "40.4",
         "40.6",
         "40.37",
         "40.5",
         "469600"
        ],
        [
         "6",
         "2025-08-14 13:34:00",
         "40.5",
         "40.69",
         "40.46",
         "40.69",
         "839400"
        ],
        [
         "7",
         "2025-08-14 13:35:00",
         "40.69",
         "40.71",
         "40.6",
         "40.65",
         "209400"
        ],
        [
         "8",
         "2025-08-14 13:36:00",
         "40.65",
         "40.7",
         "40.57",
         "40.58",
         "255200"
        ],
        [
         "9",
         "2025-08-14 13:37:00",
         "40.58",
         "40.69",
         "40.57",
         "40.67",
         "132000"
        ],
        [
         "10",
         "2025-08-14 13:38:00",
         "40.68",
         "40.72",
         "40.66",
         "40.66",
         "194900"
        ],
        [
         "11",
         "2025-08-14 13:39:00",
         "40.67",
         "40.7",
         "40.6",
         "40.65",
         "146700"
        ],
        [
         "12",
         "2025-08-14 13:40:00",
         "40.66",
         "40.72",
         "40.66",
         "40.68",
         "121000"
        ],
        [
         "13",
         "2025-08-14 13:41:00",
         "40.68",
         "40.7",
         "40.66",
         "40.67",
         "69533"
        ],
        [
         "14",
         "2025-08-14 13:42:00",
         "40.66",
         "40.7",
         "40.6",
         "40.6",
         "155400"
        ],
        [
         "15",
         "2025-08-14 13:43:00",
         "40.61",
         "40.61",
         "40.54",
         "40.58",
         "140800"
        ],
        [
         "16",
         "2025-08-14 13:44:00",
         "40.57",
         "40.6",
         "40.52",
         "40.58",
         "71200"
        ],
        [
         "17",
         "2025-08-14 13:45:00",
         "40.55",
         "40.66",
         "40.55",
         "40.65",
         "267000"
        ],
        [
         "18",
         "2025-08-14 13:46:00",
         "40.64",
         "40.76",
         "40.64",
         "40.71",
         "298700"
        ],
        [
         "19",
         "2025-08-14 13:47:00",
         "40.74",
         "40.78",
         "40.69",
         "40.77",
         "116000"
        ],
        [
         "20",
         "2025-08-14 13:48:00",
         "40.78",
         "40.79",
         "40.75",
         "40.79",
         "41300"
        ],
        [
         "21",
         "2025-08-14 13:49:00",
         "40.79",
         "40.8",
         "40.74",
         "40.76",
         "103100"
        ],
        [
         "22",
         "2025-08-14 13:50:00",
         "40.76",
         "40.88",
         "40.75",
         "40.88",
         "174000"
        ],
        [
         "23",
         "2025-08-14 13:51:00",
         "40.87",
         "40.96",
         "40.8",
         "40.95",
         "175008"
        ],
        [
         "24",
         "2025-08-14 13:52:00",
         "40.96",
         "41.1",
         "40.95",
         "41.02",
         "186000"
        ],
        [
         "25",
         "2025-08-14 13:53:00",
         "41.02",
         "41.04",
         "40.95",
         "41.04",
         "68700"
        ],
        [
         "26",
         "2025-08-14 13:54:00",
         "41.02",
         "41.02",
         "40.9",
         "40.98",
         "172992"
        ],
        [
         "27",
         "2025-08-14 13:55:00",
         "40.96",
         "40.99",
         "40.89",
         "40.94",
         "66900"
        ],
        [
         "28",
         "2025-08-14 13:56:00",
         "40.96",
         "40.99",
         "40.9",
         "40.98",
         "72200"
        ],
        [
         "29",
         "2025-08-14 13:57:00",
         "40.96",
         "40.99",
         "40.89",
         "40.95",
         "50400"
        ],
        [
         "30",
         "2025-08-14 13:58:00",
         "40.91",
         "40.96",
         "40.81",
         "40.87",
         "103600"
        ],
        [
         "31",
         "2025-08-14 13:59:00",
         "40.87",
         "40.92",
         "40.84",
         "40.91",
         "42500"
        ],
        [
         "32",
         "2025-08-14 14:00:00",
         "40.88",
         "40.92",
         "40.81",
         "40.92",
         "47600"
        ],
        [
         "33",
         "2025-08-14 14:01:00",
         "40.89",
         "40.99",
         "40.87",
         "40.99",
         "46700"
        ],
        [
         "34",
         "2025-08-14 14:02:00",
         "40.98",
         "41.0",
         "40.94",
         "40.97",
         "50300"
        ],
        [
         "35",
         "2025-08-14 14:03:00",
         "40.97",
         "41.05",
         "40.95",
         "41.05",
         "60700"
        ],
        [
         "36",
         "2025-08-14 14:04:00",
         "41.02",
         "41.02",
         "40.96",
         "40.96",
         "61900"
        ],
        [
         "37",
         "2025-08-14 14:05:00",
         "40.96",
         "40.98",
         "40.89",
         "40.98",
         "95200"
        ],
        [
         "38",
         "2025-08-14 14:06:00",
         "40.99",
         "41.1",
         "40.97",
         "41.06",
         "226200"
        ],
        [
         "39",
         "2025-08-14 14:07:00",
         "41.06",
         "41.11",
         "41.02",
         "41.05",
         "109100"
        ],
        [
         "40",
         "2025-08-14 14:08:00",
         "41.07",
         "41.15",
         "41.07",
         "41.14",
         "89400"
        ],
        [
         "41",
         "2025-08-14 14:09:00",
         "41.15",
         "41.3",
         "41.13",
         "41.21",
         "312800"
        ],
        [
         "42",
         "2025-08-14 14:10:00",
         "41.23",
         "41.26",
         "41.16",
         "41.21",
         "171200"
        ],
        [
         "43",
         "2025-08-14 14:11:00",
         "41.22",
         "41.23",
         "41.1",
         "41.15",
         "113200"
        ],
        [
         "44",
         "2025-08-14 14:12:00",
         "41.15",
         "41.18",
         "41.1",
         "41.15",
         "127200"
        ],
        [
         "45",
         "2025-08-14 14:13:00",
         "41.15",
         "41.2",
         "41.09",
         "41.1",
         "178395"
        ],
        [
         "46",
         "2025-08-14 14:14:00",
         "41.09",
         "41.12",
         "40.98",
         "41.02",
         "102300"
        ],
        [
         "47",
         "2025-08-14 14:15:00",
         "41.03",
         "41.12",
         "40.98",
         "41.0",
         "169700"
        ],
        [
         "48",
         "2025-08-14 14:16:00",
         "41.0",
         "41.03",
         "40.9",
         "41.01",
         "118900"
        ],
        [
         "49",
         "2025-08-14 14:17:00",
         "40.96",
         "41.02",
         "40.93",
         "40.97",
         "88100"
        ]
       ],
       "shape": {
        "columns": 6,
        "rows": 1970
       }
      },
      "text/html": [
       "<div>\n",
       "<style scoped>\n",
       "    .dataframe tbody tr th:only-of-type {\n",
       "        vertical-align: middle;\n",
       "    }\n",
       "\n",
       "    .dataframe tbody tr th {\n",
       "        vertical-align: top;\n",
       "    }\n",
       "\n",
       "    .dataframe thead th {\n",
       "        text-align: right;\n",
       "    }\n",
       "</style>\n",
       "<table border=\"1\" class=\"dataframe\">\n",
       "  <thead>\n",
       "    <tr style=\"text-align: right;\">\n",
       "      <th></th>\n",
       "      <th>day</th>\n",
       "      <th>open</th>\n",
       "      <th>high</th>\n",
       "      <th>low</th>\n",
       "      <th>close</th>\n",
       "      <th>volume</th>\n",
       "    </tr>\n",
       "  </thead>\n",
       "  <tbody>\n",
       "    <tr>\n",
       "      <th>0</th>\n",
       "      <td>2025-08-14 13:28:00</td>\n",
       "      <td>40.36</td>\n",
       "      <td>40.50</td>\n",
       "      <td>40.30</td>\n",
       "      <td>40.32</td>\n",
       "      <td>262700</td>\n",
       "    </tr>\n",
       "    <tr>\n",
       "      <th>1</th>\n",
       "      <td>2025-08-14 13:29:00</td>\n",
       "      <td>40.33</td>\n",
       "      <td>40.40</td>\n",
       "      <td>40.32</td>\n",
       "      <td>40.35</td>\n",
       "      <td>116700</td>\n",
       "    </tr>\n",
       "    <tr>\n",
       "      <th>2</th>\n",
       "      <td>2025-08-14 13:30:00</td>\n",
       "      <td>40.33</td>\n",
       "      <td>40.38</td>\n",
       "      <td>40.32</td>\n",
       "      <td>40.38</td>\n",
       "      <td>76100</td>\n",
       "    </tr>\n",
       "    <tr>\n",
       "      <th>3</th>\n",
       "      <td>2025-08-14 13:31:00</td>\n",
       "      <td>40.38</td>\n",
       "      <td>40.40</td>\n",
       "      <td>40.36</td>\n",
       "      <td>40.38</td>\n",
       "      <td>169700</td>\n",
       "    </tr>\n",
       "    <tr>\n",
       "      <th>4</th>\n",
       "      <td>2025-08-14 13:32:00</td>\n",
       "      <td>40.38</td>\n",
       "      <td>40.46</td>\n",
       "      <td>40.35</td>\n",
       "      <td>40.40</td>\n",
       "      <td>258800</td>\n",
       "    </tr>\n",
       "    <tr>\n",
       "      <th>...</th>\n",
       "      <td>...</td>\n",
       "      <td>...</td>\n",
       "      <td>...</td>\n",
       "      <td>...</td>\n",
       "      <td>...</td>\n",
       "      <td>...</td>\n",
       "    </tr>\n",
       "    <tr>\n",
       "      <th>1965</th>\n",
       "      <td>2025-08-26 14:29:00</td>\n",
       "      <td>NaN</td>\n",
       "      <td>NaN</td>\n",
       "      <td>NaN</td>\n",
       "      <td>NaN</td>\n",
       "      <td>62400</td>\n",
       "    </tr>\n",
       "    <tr>\n",
       "      <th>1966</th>\n",
       "      <td>2025-08-26 14:30:00</td>\n",
       "      <td>NaN</td>\n",
       "      <td>NaN</td>\n",
       "      <td>NaN</td>\n",
       "      <td>NaN</td>\n",
       "      <td>84900</td>\n",
       "    </tr>\n",
       "    <tr>\n",
       "      <th>1967</th>\n",
       "      <td>2025-08-26 14:31:00</td>\n",
       "      <td>NaN</td>\n",
       "      <td>NaN</td>\n",
       "      <td>NaN</td>\n",
       "      <td>NaN</td>\n",
       "      <td>39400</td>\n",
       "    </tr>\n",
       "    <tr>\n",
       "      <th>1968</th>\n",
       "      <td>2025-08-26 14:32:00</td>\n",
       "      <td>NaN</td>\n",
       "      <td>NaN</td>\n",
       "      <td>NaN</td>\n",
       "      <td>NaN</td>\n",
       "      <td>94700</td>\n",
       "    </tr>\n",
       "    <tr>\n",
       "      <th>1969</th>\n",
       "      <td>2025-08-26 14:33:00</td>\n",
       "      <td>NaN</td>\n",
       "      <td>NaN</td>\n",
       "      <td>NaN</td>\n",
       "      <td>NaN</td>\n",
       "      <td>107800</td>\n",
       "    </tr>\n",
       "  </tbody>\n",
       "</table>\n",
       "<p>1970 rows × 6 columns</p>\n",
       "</div>"
      ],
      "text/plain": [
       "                      day   open   high    low  close  volume\n",
       "0     2025-08-14 13:28:00  40.36  40.50  40.30  40.32  262700\n",
       "1     2025-08-14 13:29:00  40.33  40.40  40.32  40.35  116700\n",
       "2     2025-08-14 13:30:00  40.33  40.38  40.32  40.38   76100\n",
       "3     2025-08-14 13:31:00  40.38  40.40  40.36  40.38  169700\n",
       "4     2025-08-14 13:32:00  40.38  40.46  40.35  40.40  258800\n",
       "...                   ...    ...    ...    ...    ...     ...\n",
       "1965  2025-08-26 14:29:00    NaN    NaN    NaN    NaN   62400\n",
       "1966  2025-08-26 14:30:00    NaN    NaN    NaN    NaN   84900\n",
       "1967  2025-08-26 14:31:00    NaN    NaN    NaN    NaN   39400\n",
       "1968  2025-08-26 14:32:00    NaN    NaN    NaN    NaN   94700\n",
       "1969  2025-08-26 14:33:00    NaN    NaN    NaN    NaN  107800\n",
       "\n",
       "[1970 rows x 6 columns]"
      ]
     },
     "execution_count": 4,
     "metadata": {},
     "output_type": "execute_result"
    }
   ],
   "source": [
    "import akshare as ak\n",
    "ak.stock_zh_a_minute(\"sh600183\", period=\"1\", adjust=\"qfq\")"
   ]
  },
  {
   "cell_type": "code",
   "execution_count": 15,
   "id": "dac506cd",
   "metadata": {},
   "outputs": [
    {
     "name": "stdout",
     "output_type": "stream",
     "text": [
      "login success!\n",
      "login respond error_code:0\n",
      "login respond  error_msg:success\n",
      "query_history_k_data_plus respond error_code:0\n",
      "query_history_k_data_plus respond  error_msg:success\n",
      "             date       code           open           high            low  \\\n",
      "0      2020-06-01  sh.600000   8.1446209600   8.2135782400   8.0986494400   \n",
      "1      2020-06-01  sh.600000   8.1905924800   8.1982544000   8.1446209600   \n",
      "2      2020-06-01  sh.600000   8.1599448000   8.1829305600   8.1446209600   \n",
      "3      2020-06-01  sh.600000   8.1599448000   8.1829305600   8.1599448000   \n",
      "4      2020-06-01  sh.600000   8.1676067200   8.1752686400   8.1446209600   \n",
      "...           ...        ...            ...            ...            ...   \n",
      "61051  2025-08-25  sh.600000  13.9200000000  13.9300000000  13.9100000000   \n",
      "61052  2025-08-25  sh.600000  13.9200000000  13.9400000000  13.9200000000   \n",
      "61053  2025-08-25  sh.600000  13.9300000000  14.0300000000  13.9300000000   \n",
      "61054  2025-08-25  sh.600000  13.9900000000  14.0300000000  13.9900000000   \n",
      "61055  2025-08-25  sh.600000  14.0200000000  14.0500000000  14.0100000000   \n",
      "\n",
      "               close   volume         amount adjustflag  \n",
      "0       8.1829305600  3126234  33369867.0000          2  \n",
      "1       8.1599448000  1292600  13786083.0000          2  \n",
      "2       8.1522828800  1079400  11485109.0000          2  \n",
      "3       8.1599448000   893100   9521425.0000          2  \n",
      "4       8.1446209600   486837   5185135.0000          2  \n",
      "...              ...      ...            ...        ...  \n",
      "61051  13.9300000000  1527400  21254400.0000          2  \n",
      "61052  13.9300000000  1541700  21471490.0000          2  \n",
      "61053  14.0000000000  5548800  77620868.0000          2  \n",
      "61054  14.0300000000  2724500  38169714.0000          2  \n",
      "61055  14.0300000000  3481100  48840776.0000          2  \n",
      "\n",
      "[61056 rows x 9 columns]\n",
      "logout success!\n"
     ]
    },
    {
     "data": {
      "text/plain": [
       "<baostock.data.resultset.ResultData at 0x19603ed2570>"
      ]
     },
     "execution_count": 15,
     "metadata": {},
     "output_type": "execute_result"
    }
   ],
   "source": [
    "import baostock as bs\n",
    "import pandas as pd\n",
    "\n",
    "#### 登陆系统 ####\n",
    "lg = bs.login()\n",
    "# 显示登陆返回信息\n",
    "print('login respond error_code:'+lg.error_code)\n",
    "print('login respond  error_msg:'+lg.error_msg)\n",
    "\n",
    "#### 获取历史K线数据 ####\n",
    "# 详细指标参数，参见“历史行情指标参数”章节\n",
    "code = \"sh.600183\"\n",
    "rs = bs.query_history_k_data_plus(\"sh.600000\",\n",
    "    \"date,code,open,high,low,close,volume,amount,adjustflag\",\n",
    "    start_date='2020-06-01', end_date='2025-12-31', \n",
    "    frequency=\"5\", adjustflag=\"2\") #frequency=\"d\"取日k线，adjustflag=\"3\"默认不复权\n",
    "print('query_history_k_data_plus respond error_code:'+rs.error_code)\n",
    "print('query_history_k_data_plus respond  error_msg:'+rs.error_msg)\n",
    "\n",
    "#### 打印结果集 ####\n",
    "data_list = []\n",
    "while (rs.error_code == '0') & rs.next():\n",
    "    # 获取一条记录，将记录合并在一起\n",
    "    data_list.append(rs.get_row_data())\n",
    "result = pd.DataFrame(data_list, columns=rs.fields)\n",
    "#### 结果集输出到csv文件 ####\n",
    "result.to_csv(\"./history_k_data.csv\", index=False)\n",
    "print(result)\n",
    "\n",
    "#### 登出系统 ####\n",
    "bs.logout()"
   ]
  }
 ],
 "metadata": {
  "kernelspec": {
   "display_name": "ML",
   "language": "python",
   "name": "python3"
  },
  "language_info": {
   "codemirror_mode": {
    "name": "ipython",
    "version": 3
   },
   "file_extension": ".py",
   "mimetype": "text/x-python",
   "name": "python",
   "nbconvert_exporter": "python",
   "pygments_lexer": "ipython3",
   "version": "3.13.5"
  }
 },
 "nbformat": 4,
 "nbformat_minor": 5
}
